{
 "cells": [
  {
   "cell_type": "markdown",
   "metadata": {},
   "source": [
    "## All neccesary imports"
   ]
  },
  {
   "cell_type": "code",
   "execution_count": null,
   "metadata": {},
   "outputs": [],
   "source": [
    "# inspired by article https://blog.francium.tech/custom-object-training-and-detection-with-yolov3-darknet-and-opencv-41542f2ff44e\n",
    "# before trying out, git clone https://github.com/AlexeyAB/darknet/\n",
    "# copy dir custom_data to darknet\n",
    "\n",
    "# add weights to darknet/custom_data/backup from link https://drive.google.com/drive/folders/17F-OpeF7VVyEIfoihltDBrgIG3vpIF5R\n",
    "\n",
    "\n",
    "# change Makefile and set GPU=1 \n",
    "# make clean && make"
   ]
  },
  {
   "cell_type": "code",
   "execution_count": 41,
   "metadata": {},
   "outputs": [],
   "source": [
    "%matplotlib inline\n",
    "\n",
    "import numpy as np\n",
    "from PIL import Image\n",
    "import numpy as np\n",
    "import cv2 as cv\n",
    "import os\n",
    "import argparse\n",
    "\n",
    "import cv2\n",
    "import numpy as np\n",
    "import glob\n",
    "\n",
    "import pandas as pd\n",
    "\n",
    "\n",
    "WIDTH = 480\n",
    "HEIGHT = 360"
   ]
  },
  {
   "cell_type": "markdown",
   "metadata": {},
   "source": [
    "## Preprocessing"
   ]
  },
  {
   "cell_type": "code",
   "execution_count": null,
   "metadata": {},
   "outputs": [],
   "source": [
    "# transform train and test annotated images to txt file that is suitable for darknet\n",
    "\n",
    "# test images should be stored in images/test/ and train images in images/train\n",
    "\n",
    "def rect_to_txt(path, folder, real):\n",
    "    boxes = []\n",
    "    for png_file in glob.glob(path + '/*.png'):\n",
    "        #print(png_file)\n",
    "        image = cv.imread(png_file)\n",
    "        imgray = cv.cvtColor(image, cv.COLOR_BGR2GRAY)\n",
    "        ret, thresh = cv.threshold(imgray, 127, 256, 0)\n",
    "        contours, hierarchy = cv.findContours(thresh, cv.RETR_LIST, cv.CHAIN_APPROX_SIMPLE)\n",
    "        \n",
    "        replaceimg = png_file.replace(folder, real)\n",
    "        pah = replaceimg.split('.')[:-1]\n",
    "        pahh = \".\".join(pah)\n",
    "        f = open(pahh+\".txt\", \"w\")\n",
    "        for c in contours:\n",
    "            x,y,w,h = cv.boundingRect(c)\n",
    "            #print(x,y,w,h)\n",
    "            WIDTH = 480\n",
    "            HEIGHT = 360\n",
    "            yp = y + h\n",
    "            xp = x + w\n",
    "            xmiddle = round((x + xp) / 2)\n",
    "            ymiddle = round((y + yp) / 2)\n",
    "            \n",
    "            xcentre = xmiddle / WIDTH\n",
    "            ycentre = ymiddle / HEIGHT\n",
    "            \n",
    "            hadj = w / WIDTH\n",
    "            wadj = h / HEIGHT\n",
    "            \n",
    "            \n",
    "            \n",
    "            \n",
    "            f.write(f\"0 {xcentre} {ycentre} {hadj} {wadj}\\n\")\n",
    "            \n",
    "            #value = (0, replaceimg, int(x),int(y),int(xp),int(yp))\n",
    "            #boxes.append(value)\n",
    "        f.close()\n",
    "        \n",
    "    #column_name = ['filename', 'class', 'xmin', 'ymin', 'xmax', 'ymax']\n",
    "    #df = pd.DataFrame(boxes, columns=column_name)\n",
    "    return \n",
    "\n",
    "\n",
    "for i, folder in enumerate(['trainannot_rect', 'testannot_rect']):\n",
    "    if i == 0:\n",
    "        real = \"train\"\n",
    "    if i == 1:\n",
    "        real = \"test\"\n",
    "        \n",
    "    image_path = os.path.join(os.getcwd(), ('images/' + folder))\n",
    "    rect_to_txt(image_path, folder,  real)\n",
    "    #xml_df.to_csv(('images/'+real+'_labels.csv'), index=None, header=False)\n",
    "    print('Successfully converted xml to csv for', folder)\n",
    "        "
   ]
  },
  {
   "cell_type": "code",
   "execution_count": null,
   "metadata": {},
   "outputs": [],
   "source": [
    "# create test.txt and train.txt for darknet specification\n",
    "\n",
    "# we will later move them to\n",
    "for i, folder in enumerate(['trainannot_rect', 'testannot_rect']):\n",
    "    if i == 0:\n",
    "        real = \"train\"\n",
    "    if i == 1:\n",
    "        real = \"test\"\n",
    "    \n",
    "    path = os.path.join(os.getcwd(), ('images/' + real))\n",
    "    f = open(real+\".txt\", \"w\")\n",
    "    for png_file in glob.glob(path + '/*.png'):\n",
    "        new = f\"custom_data/{real}/{png_file.split('/')[-1]}\"\n",
    "        print(new)\n",
    "        f.write(new+\"\\n\")\n",
    "        \n",
    "    f.close()\n",
    "        "
   ]
  },
  {
   "cell_type": "markdown",
   "metadata": {},
   "source": [
    "# Logic and evaluation and TODOs"
   ]
  },
  {
   "cell_type": "code",
   "execution_count": 6,
   "metadata": {},
   "outputs": [],
   "source": [
    "def get_iou(box1, box2):\n",
    "    \"\"\"\n",
    "    box1 -- first box, list object with coordinates (x1, y1, h, w)\n",
    "    box2 -- second box, list object with coordinates (x1, y1, h, w)\n",
    "    \"\"\"\n",
    "    box1[2]+=box1[0]\n",
    "    box1[3]+=box1[1]\n",
    "    box2[2]+=box2[0]\n",
    "    box2[3]+=box2[1]\n",
    "\n",
    "    xi1 = max(box1[0],box2[0])\n",
    "    yi1 = max(box1[1],box2[1])\n",
    "    xi2 = min(box1[2],box2[2])\n",
    "    yi2 = min(box1[3],box2[3]) \n",
    "    inter_area = (yi2-yi1)*(xi2-xi1)\n",
    "  \n",
    "    box1_area = (box1[2]-box1[0])*(box1[3]-box1[1])\n",
    "    box2_area = (box2[2]-box2[0])*(box2[3]-box2[1])\n",
    "    union_area = box1_area+box2_area-inter_area\n",
    "\n",
    "    \n",
    "    # compute the IoU\n",
    "    iou = inter_area/union_area\n",
    "    \n",
    "    return iou\n"
   ]
  },
  {
   "cell_type": "code",
   "execution_count": 15,
   "metadata": {},
   "outputs": [
    {
     "name": "stdout",
     "output_type": "stream",
     "text": [
      "194 94 37\n"
     ]
    }
   ],
   "source": [
    "# calculate tp, fp, fn for static values\n",
    "\n",
    "CONF_THRESH, NMS_THRESH = 0.5, 0.5\n",
    "#thon show.py --image test/0002.png --config cfg/yolov3.cfg --weights backup/yolov3custom_900.weights --names custom.names \n",
    "# Load the network\n",
    "# static threshold\n",
    "config=\"darknet/custom_data/cfg/yolotiny.cfg\"\n",
    "image_dict=\"darknet/custom_data/test/\"\n",
    "weights=\"darknet/custom_data/backup/yolotiny_30000.weights\"\n",
    "names=\"darknet/custom_data/custom.names\"\n",
    "\n",
    "net = cv2.dnn.readNetFromDarknet(config, weights)\n",
    "#net.setPreferableBackend(cv2.dnn.DNN_BACKEND_OPENCV)\n",
    "#net.setPreferableTarget(cv2.dnn.DNN_TARGET_CPU)\n",
    "\n",
    "# Get the output layer from YOLO\n",
    "layers = net.getLayerNames()\n",
    "output_layers = [layers[i[0] - 1] for i in net.getUnconnectedOutLayers()]\n",
    "\n",
    "tp = 0\n",
    "fp = 0\n",
    "fn = 0\n",
    "\n",
    "for image in glob.glob(image_dict + '/*.png'):\n",
    "    # Read and convert the image to blob and perform forward pass to get the bounding boxes with their confidence scores\n",
    "    img = cv2.imread(image)\n",
    "    height, width = img.shape[:2]\n",
    "\n",
    "\n",
    "    # get ground truth from txt\n",
    "    img_meta = image.split('.')[0] + \".txt\"\n",
    "\n",
    "    truth_bbox = []\n",
    "    f = open(img_meta, 'r') \n",
    "    for line in f.readlines():\n",
    "\n",
    "        res =line.rstrip('\\n').split(' ')\n",
    "        res = [float(i) for i in res]\n",
    "\n",
    "        _,center_x ,center_y , w ,h = res\n",
    "        x = center_x - w / 2\n",
    "        y = center_y - h / 2\n",
    "        truth_bbox.append([int(x* WIDTH),int(y* HEIGHT) ,int(w* WIDTH) ,int(h*HEIGHT)])\n",
    "\n",
    "    blob = cv2.dnn.blobFromImage(img, 0.00392, (416, 416), swapRB=True, crop=False)\n",
    "    net.setInput(blob)\n",
    "    layer_outputs = net.forward(output_layers)\n",
    "    class_ids, confidences, b_boxes = [], [], []\n",
    "    for output in layer_outputs:\n",
    "        for detection in output:\n",
    "            scores = detection[5:]\n",
    "            class_id = np.argmax(scores)\n",
    "            confidence = scores[class_id]\n",
    "\n",
    "            # classifies as acceptable\n",
    "            if confidence > CONF_THRESH:\n",
    "                center_x, center_y, w, h = (detection[0:4] * np.array([width, height, width, height])).astype('int')\n",
    "\n",
    "                x = int(center_x - w / 2)\n",
    "                y = int(center_y - h / 2)\n",
    "\n",
    "\n",
    "                b_boxes.append([x, y, int(w), int(h)])\n",
    "                confidences.append(float(confidence))\n",
    "                class_ids.append(int(class_id))\n",
    "\n",
    "\n",
    "\n",
    "    for tbox in truth_bbox:\n",
    "        max_iou = 0\n",
    "        for bbox in b_boxes:\n",
    "            \n",
    "            if get_iou(tbox,bbox) > 0.5:\n",
    "                max_iou = get_iou(tbox,bbox)\n",
    "                \n",
    "        if max_iou:\n",
    "            tp += 1\n",
    "        else:\n",
    "            fn += 1\n",
    "    \n",
    "    for bbox in b_boxes:\n",
    "        max_iou = 0\n",
    "        for tbox in truth_bbox:\n",
    "            if get_iou(tbox,bbox) > 0.5:\n",
    "                max_iou = get_iou(tbox,bbox)\n",
    "\n",
    "        if not max_iou:\n",
    "            fp += 1\n",
    "\n",
    "\n",
    "print(tp, fn, fp)\n",
    "\n",
    "    # Perform non maximum suppression for the bounding boxes to filter overlapping and low confident bounding boxes\n",
    "    #indices = list(cv2.dnn.NMSBoxes(b_boxes, confidences, CONF_THRESH, NMS_THRESH))\n",
    "\n"
   ]
  },
  {
   "cell_type": "code",
   "execution_count": 122,
   "metadata": {},
   "outputs": [],
   "source": [
    "# Determinating threshold for model\n",
    "\n",
    "from sklearn import metrics\n",
    "import numpy as np\n",
    "\n",
    "CONF_THRESH, NMS_THRESH = 0.5, 0.5\n",
    "#thon show.py --image test/0002.png --config cfg/yolov3.cfg --weights backup/yolov3custom_900.weights --names custom.names \n",
    "# Load the network\n",
    "\n",
    "config=\"darknet/custom_data/cfg/yolotiny.cfg\"\n",
    "image_dict=\"darknet/custom_data/test/\"\n",
    "weights=\"darknet/custom_data/backup/yolotiny_30000.weights\"\n",
    "names=\"darknet/custom_data/custom.names\"\n",
    "\n",
    "net = cv2.dnn.readNetFromDarknet(config, weights)\n",
    "#net.setPreferableBackend(cv2.dnn.DNN_BACKEND_OPENCV)\n",
    "#net.setPreferableTarget(cv2.dnn.DNN_TARGET_CPU)\n",
    "\n",
    "# Get the output layer from YOLO\n",
    "layers = net.getLayerNames()\n",
    "output_layers = [layers[i[0] - 1] for i in net.getUnconnectedOutLayers()]\n",
    "\n",
    "tp = 0\n",
    "fp = 0\n",
    "fn = 0\n",
    "y_tru = []\n",
    "y_pred = []\n",
    "for image in glob.glob(image_dict + '/*.png'):\n",
    "    # Read and convert the image to blob and perform forward pass to get the bounding boxes with their confidence scores\n",
    "    img = cv2.imread(image)\n",
    "    height, width = img.shape[:2]\n",
    "\n",
    "\n",
    "    # get ground truth from txt\n",
    "    img_meta = image.split('.')[0] + \".txt\"\n",
    "\n",
    "    truth_bbox = []\n",
    "    f = open(img_meta, 'r') \n",
    "    for line in f.readlines():\n",
    "\n",
    "        res =line.rstrip('\\n').split(' ')\n",
    "        res = [float(i) for i in res]\n",
    "\n",
    "        _,center_x ,center_y , w ,h = res\n",
    "        x = center_x - w / 2\n",
    "        y = center_y - h / 2\n",
    "        truth_bbox.append([int(x* WIDTH),int(y* HEIGHT) ,int(w* WIDTH) ,int(h*HEIGHT)])\n",
    "\n",
    "    blob = cv2.dnn.blobFromImage(img, 0.00392, (416, 416), swapRB=True, crop=False)\n",
    "    net.setInput(blob)\n",
    "    layer_outputs = net.forward(output_layers)\n",
    "    class_ids, confidences, b_boxes = [], [], []\n",
    "    for output in layer_outputs:\n",
    "        for detection in output:\n",
    "            scores = detection[5:]\n",
    "            class_id = np.argmax(scores)\n",
    "            confidence = scores[class_id]\n",
    "            \n",
    "            if confidence > 0.05:\n",
    "            # classifies as acceptable\n",
    "                center_x, center_y, w, h = (detection[0:4] * np.array([width, height, width, height])).astype('int')\n",
    "\n",
    "                x = int(center_x - w / 2)\n",
    "                y = int(center_y - h / 2)\n",
    "                \n",
    "\n",
    "                b_boxes.append(([x, y, int(w), int(h)], confidence))\n",
    "                #confidences.append(float(confidence))\n",
    "                #class_ids.append(int(class_id))\n",
    "\n",
    "\n",
    "\n",
    "    \n",
    "    for bbox, thre in b_boxes:\n",
    "        max_iou = 0\n",
    "        max_thre = 0\n",
    "        for tbox in truth_bbox:\n",
    "            if get_iou(tbox,bbox) > 0.5:\n",
    "                max_iou = get_iou(tbox,bbox)\n",
    "                max_thre = thre\n",
    "\n",
    "        if not max_iou:\n",
    "            y_tru.append(0.0)\n",
    "            y_pred.append(thre)\n",
    "\n",
    "    for tbox in truth_bbox:\n",
    "        max_iou = 0\n",
    "        max_thre = 0\n",
    "\n",
    "        for bbox, thre in b_boxes:\n",
    "            if get_iou(tbox,bbox) > 0.5:\n",
    "                max_iou = get_iou(tbox,bbox)\n",
    "                max_thre = thre\n",
    "\n",
    "        if max_iou:\n",
    "            y_tru.append(1.0)\n",
    "            y_pred.append(max_thre)\n",
    "        else:\n",
    "            y_tru.append(0.0)\n",
    "            y_pred.append(max_thre)\n",
    "\n",
    "    # Perform non maximum suppression for the bounding boxes to filter overlapping and low confident bounding boxes\n",
    "    #indices = list(cv2.dnn.NMSBoxes(b_boxes, confidences, CONF_THRESH, NMS_THRESH))\n",
    "\n",
    "\n"
   ]
  },
  {
   "cell_type": "code",
   "execution_count": 123,
   "metadata": {},
   "outputs": [],
   "source": [
    "y_tru = np.array(y_tru)\n",
    "y_pred = np.array(y_pred)\n",
    "fpr, tpr, thresholds = metrics.roc_curve(y_tru, y_pred)"
   ]
  },
  {
   "cell_type": "code",
   "execution_count": 125,
   "metadata": {},
   "outputs": [
    {
     "data": {
      "image/png": "[encoded data removed]",
      "text/plain": [
       "<Figure size 576x396 with 1 Axes>"
      ]
     },
     "metadata": {},
     "output_type": "display_data"
    },
    {
     "name": "stdout",
     "output_type": "stream",
     "text": [
      "\n"
     ]
    }
   ],
   "source": [
    "from sklearn.metrics import roc_curve, auc\n",
    "from sklearn.metrics import roc_auc_score\n",
    "\n",
    "def plot_roc_curve(fpr, tpr):\n",
    "    plt.plot(fpr, tpr, color='orange', label='ROC AUC=('+str(auc(fpr,tpr))+\")\")\n",
    "    plt.plot([0, 1], [0, 1], color='darkblue', linestyle='--')\n",
    "    plt.xlabel('False Positive Rate')\n",
    "    plt.ylabel('True Positive Rate')\n",
    "    plt.title('IOU=0.5 (ROC) Curve')\n",
    "    plt.legend()\n",
    "    plt.show()\n",
    "    \n",
    "plot_roc_curve(fpr, tpr)\n",
    "print()"
   ]
  },
  {
   "cell_type": "code",
   "execution_count": 134,
   "metadata": {},
   "outputs": [
    {
     "data": {
      "text/plain": [
       "0.7149344294382463"
      ]
     },
     "execution_count": 134,
     "metadata": {},
     "output_type": "execute_result"
    }
   ],
   "source": [
    "threshold = max(tpr-fpr)"
   ]
  },
  {
   "cell_type": "code",
   "execution_count": 143,
   "metadata": {},
   "outputs": [
    {
     "data": {
      "text/plain": [
       "0.917097994351696"
      ]
     },
     "execution_count": 143,
     "metadata": {},
     "output_type": "execute_result"
    }
   ],
   "source": [
    "average_precision_score(y_tru, y_pred)"
   ]
  },
  {
   "cell_type": "code",
   "execution_count": 144,
   "metadata": {},
   "outputs": [],
   "source": [
    "compare_tru = y_tru == 1.0\n",
    "compare_pred = y_pred > threshold"
   ]
  },
  {
   "cell_type": "code",
   "execution_count": 146,
   "metadata": {},
   "outputs": [
    {
     "data": {
      "text/plain": [
       "(0.8564593301435407, 0.9179487179487179, 0.8861386138613861)"
      ]
     },
     "execution_count": 146,
     "metadata": {},
     "output_type": "execute_result"
    }
   ],
   "source": [
    "precision_score(compare_tru, compare_pred), recall_score(compare_tru, compare_pred), f1_score(compare_tru, compare_pred)"
   ]
  },
  {
   "cell_type": "code",
   "execution_count": null,
   "metadata": {},
   "outputs": [],
   "source": [
    "# Calculating mAP with darknet methods\n",
    "# ./darknet detector map custom_data/detector.data custom_data/cfg/yolotiny.cfg custom_data/backup/yolotiny_20000.weights -iou_thresh 0.75\n",
    "\"\"\"\n",
    "\n",
    "calculation mAP (mean average precision)...\n",
    " Detection layer: 15 - type = 27 \n",
    "252\n",
    " detections_count = 3332, unique_truth_count = 288  \n",
    "class_id = 0, name = ear, ap = 74.14%   \t (TP = 209, FP = 65) \n",
    "\n",
    " for conf_thresh = 0.25, precision = 0.76, recall = 0.73, F1-score = 0.74 \n",
    " for conf_thresh = 0.25, TP = 209, FP = 65, FN = 79, average IoU = 56.05 % \n",
    "\n",
    " IoU threshold = 50 %, used Area-Under-Curve for each unique Recall \n",
    " mean average precision (mAP@0.50) = 0.741424, or 74.14 % \n",
    "Total Detection Time: 137 Seconds\n",
    "\n",
    "Set -points flag:\n",
    " `-points 101` for MS COCO \n",
    " `-points 11` for PascalVOC 2007 (uncomment `difficult` in voc.data) \n",
    " `-points 0` (AUC) for ImageNet, PascalVOC 2010-2012, your custom dataset\n",
    "\n",
    "\n",
    "Done! Loaded 16 layers from weights-file \n",
    "\n",
    " calculation mAP (mean average precision)...\n",
    " Detection layer: 15 - type = 27 \n",
    "252\n",
    " detections_count = 3332, unique_truth_count = 288  \n",
    "class_id = 0, name = ear, ap = 24.07%   \t (TP = 96, FP = 178) \n",
    "\n",
    " for conf_thresh = 0.25, precision = 0.35, recall = 0.33, F1-score = 0.34 \n",
    " for conf_thresh = 0.25, TP = 96, FP = 178, FN = 192, average IoU = 28.80 % \n",
    "\n",
    " IoU threshold = 75 %, used Area-Under-Curve for each unique Recall \n",
    " mean average precision (mAP@0.75) = 0.240711, or 24.07 % \n",
    "Total Detection Time: 142 Seconds\n",
    "\n",
    "\n",
    "\"\"\""
   ]
  },
  {
   "cell_type": "code",
   "execution_count": null,
   "metadata": {},
   "outputs": [],
   "source": [
    "# Nice to have TODO create google colab notebook"
   ]
  }
 ],
 "metadata": {
  "kernelspec": {
   "display_name": "Python 3",
   "language": "python",
   "name": "python3"
  },
  "language_info": {
   "codemirror_mode": {
    "name": "ipython",
    "version": 3
   },
   "file_extension": ".py",
   "mimetype": "text/x-python",
   "name": "python",
   "nbconvert_exporter": "python",
   "pygments_lexer": "ipython3",
   "version": "3.8.5"
  }
 },
 "nbformat": 4,
 "nbformat_minor": 4
}
